{
  "nbformat": 4,
  "nbformat_minor": 0,
  "metadata": {
    "colab": {
      "provenance": [],
      "authorship_tag": "ABX9TyO3K9ZK6OuCj/Z8374byIrc",
      "include_colab_link": true
    },
    "kernelspec": {
      "name": "python3",
      "display_name": "Python 3"
    },
    "language_info": {
      "name": "python"
    }
  },
  "cells": [
    {
      "cell_type": "markdown",
      "metadata": {
        "id": "view-in-github",
        "colab_type": "text"
      },
      "source": [
        "<a href=\"https://colab.research.google.com/github/RidhoAnfaal/MachineLearning/blob/main/Midterm_Ridho%20Anfa'al.ipynb\" target=\"_parent\"><img src=\"https://colab.research.google.com/assets/colab-badge.svg\" alt=\"Open In Colab\"/></a>"
      ]
    },
    {
      "cell_type": "code",
      "execution_count": 2,
      "metadata": {
        "colab": {
          "base_uri": "https://localhost:8080/"
        },
        "id": "mhSOgYxp_OPC",
        "outputId": "3e439f0e-e37c-4423-99dd-73b466de6fd0"
      },
      "outputs": [
        {
          "output_type": "stream",
          "name": "stdout",
          "text": [
            "Mounted at /content/drive\n"
          ]
        }
      ],
      "source": [
        "import google.colab.drive\n",
        "google.colab.drive.mount('/content/drive')"
      ]
    },
    {
      "cell_type": "code",
      "source": [
        "!pip install annoy"
      ],
      "metadata": {
        "colab": {
          "base_uri": "https://localhost:8080/"
        },
        "id": "UJzJ-eCQJ9b7",
        "outputId": "9c104e0c-4ebf-46f0-b7f2-3ca8005a9eca"
      },
      "execution_count": 3,
      "outputs": [
        {
          "output_type": "stream",
          "name": "stdout",
          "text": [
            "Collecting annoy\n",
            "  Downloading annoy-1.17.3.tar.gz (647 kB)\n",
            "\u001b[?25l     \u001b[90m━━━━━━━━━━━━━━━━━━━━━━━━━━━━━━━━━━━━━━━━\u001b[0m \u001b[32m0.0/647.5 kB\u001b[0m \u001b[31m?\u001b[0m eta \u001b[36m-:--:--\u001b[0m\r\u001b[2K     \u001b[91m━━━━━━━━━━━━━━━━━━\u001b[0m\u001b[91m╸\u001b[0m\u001b[90m━━━━━━━━━━━━━━━━━━━━\u001b[0m \u001b[32m307.2/647.5 kB\u001b[0m \u001b[31m9.1 MB/s\u001b[0m eta \u001b[36m0:00:01\u001b[0m\r\u001b[2K     \u001b[90m━━━━━━━━━━━━━━━━━━━━━━━━━━━━━━━━━━━━━━\u001b[0m \u001b[32m647.5/647.5 kB\u001b[0m \u001b[31m10.6 MB/s\u001b[0m eta \u001b[36m0:00:00\u001b[0m\n",
            "\u001b[?25h  Preparing metadata (setup.py) ... \u001b[?25l\u001b[?25hdone\n",
            "Building wheels for collected packages: annoy\n",
            "  Building wheel for annoy (setup.py) ... \u001b[?25l\u001b[?25hdone\n",
            "  Created wheel for annoy: filename=annoy-1.17.3-cp312-cp312-linux_x86_64.whl size=551812 sha256=56c712572ab841832fc8818d7494b67864e89d2fc6f9b6bf014325d2918b3299\n",
            "  Stored in directory: /root/.cache/pip/wheels/db/b9/53/a3b2d1fe1743abadddec6aa541294b24fdbc39d7800bc57311\n",
            "Successfully built annoy\n",
            "Installing collected packages: annoy\n",
            "Successfully installed annoy-1.17.3\n"
          ]
        }
      ]
    },
    {
      "cell_type": "code",
      "source": [
        "import numpy as np\n",
        "import matplotlib.pyplot as plt\n",
        "import pandas as pd\n",
        "import scipy.cluster.hierarchy as sch\n",
        "from sklearn.cluster import AgglomerativeClustering\n",
        "from sklearn.impute import SimpleImputer\n",
        "from sklearn.neighbors import NearestNeighbors\n",
        "from sklearn.preprocessing import StandardScaler\n",
        "from sklearn.cluster import KMeans, DBSCAN\n",
        "from sklearn.feature_selection import SelectKBest, f_classif\n",
        "from sklearn.metrics import silhouette_score, davies_bouldin_score\n",
        "from annoy import AnnoyIndex"
      ],
      "metadata": {
        "id": "wd97E9yAJ07s"
      },
      "execution_count": 4,
      "outputs": []
    },
    {
      "cell_type": "markdown",
      "source": [
        "# Case Study 2 - CC General\n",
        "\n",
        "- This case study relates to credit card user data.\n",
        "- For students with attendance numbers 2, 5, 8, 11, etc.\n",
        "- Follow these steps and analyze the results."
      ],
      "metadata": {
        "id": "SW9xlF2FE6iZ"
      }
    },
    {
      "cell_type": "markdown",
      "source": [
        "# Data Preprocessing (20 points)"
      ],
      "metadata": {
        "id": "QiNS5F_iFwce"
      }
    },
    {
      "cell_type": "markdown",
      "source": [
        "## 1. Load Data"
      ],
      "metadata": {
        "id": "94QEUgelINJ4"
      }
    },
    {
      "cell_type": "code",
      "source": [
        "df = pd.read_csv('/content/drive/MyDrive/ML/UTS2526/2_CC_GENERAL.csv')\n",
        "print(\"Data loaded successfully\")\n",
        "print(df.head())"
      ],
      "metadata": {
        "colab": {
          "base_uri": "https://localhost:8080/"
        },
        "id": "x4M-mbTlFuxs",
        "outputId": "baea88ea-918d-4282-bcf6-88083837d186"
      },
      "execution_count": 5,
      "outputs": [
        {
          "output_type": "stream",
          "name": "stdout",
          "text": [
            "Data loaded successfully\n",
            "  CUST_ID      BALANCE  BALANCE_FREQUENCY  PURCHASES  ONEOFF_PURCHASES  \\\n",
            "0  C10001    40.900749           0.818182      95.40              0.00   \n",
            "1  C10002  3202.467416           0.909091       0.00              0.00   \n",
            "2  C10003  2495.148862           1.000000     773.17            773.17   \n",
            "3  C10004  1666.670542           0.636364    1499.00           1499.00   \n",
            "4  C10005   817.714335           1.000000      16.00             16.00   \n",
            "\n",
            "   INSTALLMENTS_PURCHASES  CASH_ADVANCE  PURCHASES_FREQUENCY  \\\n",
            "0                    95.4      0.000000             0.166667   \n",
            "1                     0.0   6442.945483             0.000000   \n",
            "2                     0.0      0.000000             1.000000   \n",
            "3                     0.0    205.788017             0.083333   \n",
            "4                     0.0      0.000000             0.083333   \n",
            "\n",
            "   ONEOFF_PURCHASES_FREQUENCY  PURCHASES_INSTALLMENTS_FREQUENCY  \\\n",
            "0                    0.000000                          0.083333   \n",
            "1                    0.000000                          0.000000   \n",
            "2                    1.000000                          0.000000   \n",
            "3                    0.083333                          0.000000   \n",
            "4                    0.083333                          0.000000   \n",
            "\n",
            "   CASH_ADVANCE_FREQUENCY  CASH_ADVANCE_TRX  PURCHASES_TRX  CREDIT_LIMIT  \\\n",
            "0                0.000000                 0              2        1000.0   \n",
            "1                0.250000                 4              0        7000.0   \n",
            "2                0.000000                 0             12        7500.0   \n",
            "3                0.083333                 1              1        7500.0   \n",
            "4                0.000000                 0              1        1200.0   \n",
            "\n",
            "      PAYMENTS  MINIMUM_PAYMENTS  PRC_FULL_PAYMENT  TENURE  \n",
            "0   201.802084        139.509787          0.000000      12  \n",
            "1  4103.032597       1072.340217          0.222222      12  \n",
            "2   622.066742        627.284787          0.000000      12  \n",
            "3     0.000000               NaN          0.000000      12  \n",
            "4   678.334763        244.791237          0.000000      12  \n"
          ]
        }
      ]
    },
    {
      "cell_type": "markdown",
      "source": [
        "## 2. Perform data imputation on missing data. Attach your analysis explaining why you used the chosen imputation method. (10 points)"
      ],
      "metadata": {
        "id": "SYesjCxFKI10"
      }
    },
    {
      "cell_type": "code",
      "source": [
        "print(\"Missing values in each column : \")\n",
        "print(df.isnull().sum())\n",
        "\n",
        "imputer = SimpleImputer(strategy='mean')\n",
        "numeric_df = df.select_dtypes(include=[np.number])\n",
        "df[numeric_df.columns] = imputer.fit_transform(numeric_df)\n",
        "\n",
        "print(\"Missing values in each column after imputation : \")\n",
        "print(df.isnull().sum())"
      ],
      "metadata": {
        "colab": {
          "base_uri": "https://localhost:8080/"
        },
        "id": "s4xIfjkOKRHA",
        "outputId": "4fdfe232-3e80-4671-d755-d22ca143db6c"
      },
      "execution_count": 6,
      "outputs": [
        {
          "output_type": "stream",
          "name": "stdout",
          "text": [
            "Missing values in each column : \n",
            "CUST_ID                               0\n",
            "BALANCE                               0\n",
            "BALANCE_FREQUENCY                     0\n",
            "PURCHASES                             0\n",
            "ONEOFF_PURCHASES                      0\n",
            "INSTALLMENTS_PURCHASES                0\n",
            "CASH_ADVANCE                          0\n",
            "PURCHASES_FREQUENCY                   0\n",
            "ONEOFF_PURCHASES_FREQUENCY            0\n",
            "PURCHASES_INSTALLMENTS_FREQUENCY      0\n",
            "CASH_ADVANCE_FREQUENCY                0\n",
            "CASH_ADVANCE_TRX                      0\n",
            "PURCHASES_TRX                         0\n",
            "CREDIT_LIMIT                          1\n",
            "PAYMENTS                              0\n",
            "MINIMUM_PAYMENTS                    313\n",
            "PRC_FULL_PAYMENT                      0\n",
            "TENURE                                0\n",
            "dtype: int64\n",
            "Missing values in each column after imputation : \n",
            "CUST_ID                             0\n",
            "BALANCE                             0\n",
            "BALANCE_FREQUENCY                   0\n",
            "PURCHASES                           0\n",
            "ONEOFF_PURCHASES                    0\n",
            "INSTALLMENTS_PURCHASES              0\n",
            "CASH_ADVANCE                        0\n",
            "PURCHASES_FREQUENCY                 0\n",
            "ONEOFF_PURCHASES_FREQUENCY          0\n",
            "PURCHASES_INSTALLMENTS_FREQUENCY    0\n",
            "CASH_ADVANCE_FREQUENCY              0\n",
            "CASH_ADVANCE_TRX                    0\n",
            "PURCHASES_TRX                       0\n",
            "CREDIT_LIMIT                        0\n",
            "PAYMENTS                            0\n",
            "MINIMUM_PAYMENTS                    0\n",
            "PRC_FULL_PAYMENT                    0\n",
            "TENURE                              0\n",
            "dtype: int64\n"
          ]
        }
      ]
    },
    {
      "cell_type": "markdown",
      "source": [
        "### I chose mean to replace missing values, because this dataset contains numerical features and using the mean keeps the data distribution stable."
      ],
      "metadata": {
        "id": "ofgfNCGOncEf"
      }
    },
    {
      "cell_type": "markdown",
      "source": [
        "## 3. Drop irrelevant features (5 points)"
      ],
      "metadata": {
        "id": "ZVV2dJSDKIyS"
      }
    },
    {
      "cell_type": "code",
      "source": [
        "print(\"All columns : \")\n",
        "print(df.columns)\n",
        "\n",
        "df = df.drop(['CUST_ID'], axis=1)\n",
        "print(\"Columns after dropping CUST_ID : \")\n",
        "print(df.columns)"
      ],
      "metadata": {
        "colab": {
          "base_uri": "https://localhost:8080/"
        },
        "id": "mcMuQTMLMfvn",
        "outputId": "17c8cf4c-9593-4996-93a2-d115777a30a5"
      },
      "execution_count": 7,
      "outputs": [
        {
          "output_type": "stream",
          "name": "stdout",
          "text": [
            "All columns : \n",
            "Index(['CUST_ID', 'BALANCE', 'BALANCE_FREQUENCY', 'PURCHASES',\n",
            "       'ONEOFF_PURCHASES', 'INSTALLMENTS_PURCHASES', 'CASH_ADVANCE',\n",
            "       'PURCHASES_FREQUENCY', 'ONEOFF_PURCHASES_FREQUENCY',\n",
            "       'PURCHASES_INSTALLMENTS_FREQUENCY', 'CASH_ADVANCE_FREQUENCY',\n",
            "       'CASH_ADVANCE_TRX', 'PURCHASES_TRX', 'CREDIT_LIMIT', 'PAYMENTS',\n",
            "       'MINIMUM_PAYMENTS', 'PRC_FULL_PAYMENT', 'TENURE'],\n",
            "      dtype='object')\n",
            "Columns after dropping CUST_ID : \n",
            "Index(['BALANCE', 'BALANCE_FREQUENCY', 'PURCHASES', 'ONEOFF_PURCHASES',\n",
            "       'INSTALLMENTS_PURCHASES', 'CASH_ADVANCE', 'PURCHASES_FREQUENCY',\n",
            "       'ONEOFF_PURCHASES_FREQUENCY', 'PURCHASES_INSTALLMENTS_FREQUENCY',\n",
            "       'CASH_ADVANCE_FREQUENCY', 'CASH_ADVANCE_TRX', 'PURCHASES_TRX',\n",
            "       'CREDIT_LIMIT', 'PAYMENTS', 'MINIMUM_PAYMENTS', 'PRC_FULL_PAYMENT',\n",
            "       'TENURE'],\n",
            "      dtype='object')\n"
          ]
        }
      ]
    },
    {
      "cell_type": "markdown",
      "source": [
        "### I choose to drop CUST_ID column because it's just an identifier and doesn't contribute to the clustering or feature selection process."
      ],
      "metadata": {
        "id": "dm8hdMkkoGrm"
      }
    },
    {
      "cell_type": "markdown",
      "source": [
        "# Clustering - 1 (30 points)"
      ],
      "metadata": {
        "id": "3lnqlflBMuro"
      }
    },
    {
      "cell_type": "markdown",
      "source": [
        "## 1. Create a cluster model using KMeans with the number of clusters from 1 to 10. (10 points)"
      ],
      "metadata": {
        "id": "KCfm_6z_M5YH"
      }
    },
    {
      "cell_type": "code",
      "source": [
        "scaler = StandardScaler()\n",
        "X_scaled = scaler.fit_transform(df)\n",
        "\n",
        "inertia = []\n",
        "\n",
        "for k in range(1, 11):\n",
        "  kmeans = KMeans(n_clusters=k, random_state=42)\n",
        "  kmeans.fit(X_scaled)\n",
        "  inertia.append(kmeans.inertia_)\n",
        "\n",
        "print(\"Inertia values : \")\n",
        "print(inertia)"
      ],
      "metadata": {
        "colab": {
          "base_uri": "https://localhost:8080/"
        },
        "id": "s33qfN6mNt0k",
        "outputId": "502b2a18-1639-44bc-d09c-c34ed23c598b"
      },
      "execution_count": 8,
      "outputs": [
        {
          "output_type": "stream",
          "name": "stdout",
          "text": [
            "Inertia values : \n",
            "[152149.99999999875, 128957.90955338141, 112609.01071221931, 105366.56908176874, 92157.2309061352, 84852.59400226278, 80786.09414150026, 76542.39710611728, 71729.80111888565, 66612.6924406699]\n"
          ]
        }
      ]
    },
    {
      "cell_type": "markdown",
      "source": [
        "## 2. Create an elbow diagram, determine the best number of clusters according to the elbow method, and provide your reasoning. (10 points)"
      ],
      "metadata": {
        "id": "Eq_j6h8INoQH"
      }
    },
    {
      "cell_type": "code",
      "source": [
        "plt.figure(figsize=(8, 4))\n",
        "plt.plot(range(1, 11), inertia, marker='x')\n",
        "plt.title('Elbow Method to Find The Best K')\n",
        "plt.xlabel('k')\n",
        "plt.ylabel('SSE')\n",
        "plt.show()"
      ],
      "metadata": {
        "colab": {
          "base_uri": "https://localhost:8080/",
          "height": 410
        },
        "id": "meMZSdayNuHY",
        "outputId": "27c3026b-59a4-4415-a0b8-758fdbbe4463"
      },
      "execution_count": 9,
      "outputs": [
        {
          "output_type": "display_data",
          "data": {
            "text/plain": [
              "<Figure size 800x400 with 1 Axes>"
            ],
            "image/png": "[encoded data removed]"
          },
          "metadata": {}
        }
      ]
    },
    {
      "cell_type": "markdown",
      "source": [
        "### According to my elbow method the curve shows a sharp decrease in SSE from k=1 to k=4, but after k=4 the curve starts to flatten. Therefore the best number of clusters is k=4 because it is the point where the curve bends showing a balance between a low SSE and avoiding to many clusters."
      ],
      "metadata": {
        "id": "nEaJHmIlpX7y"
      }
    },
    {
      "cell_type": "markdown",
      "source": [
        "## 3. Calculate the silhouette coefficient value for k=1 to k=10. Based on the silhouette value, what is the best number of clusters? Is it the same as the elbow method? (10 points)"
      ],
      "metadata": {
        "id": "JLaQH46-Nrgo"
      }
    },
    {
      "cell_type": "code",
      "source": [
        "silhouette_scores = []\n",
        "\n",
        "for k in range(2, 11):\n",
        "  kmeans = KMeans(n_clusters=k, random_state=42)\n",
        "  labels = kmeans.fit_predict(X_scaled)\n",
        "  score = silhouette_score(X_scaled, labels)\n",
        "  silhouette_scores.append(score)\n",
        "\n",
        "for i, score in enumerate(silhouette_scores, start = 2):\n",
        "  # print(f\"Silhouette score for k = {i} : {score}\")\n",
        "  print(f\"k={i}, Silhouette Score={score:.4f}\")\n",
        "\n",
        "\n",
        "plt.figure(figsize=(8, 4))\n",
        "plt.plot(range(2, 11), silhouette_scores, marker='x')\n",
        "plt.title('Silhouette Score for Different K')\n",
        "plt.xlabel('k')\n",
        "plt.ylabel('Silhouette Score')\n",
        "plt.show()"
      ],
      "metadata": {
        "colab": {
          "base_uri": "https://localhost:8080/",
          "height": 566
        },
        "id": "JZsYD8MzNkhG",
        "outputId": "973f8ee8-a09f-4fea-f71c-7b223df9a867"
      },
      "execution_count": 10,
      "outputs": [
        {
          "output_type": "stream",
          "name": "stdout",
          "text": [
            "k=2, Silhouette Score=0.2799\n",
            "k=3, Silhouette Score=0.2068\n",
            "k=4, Silhouette Score=0.1664\n",
            "k=5, Silhouette Score=0.1923\n",
            "k=6, Silhouette Score=0.2028\n",
            "k=7, Silhouette Score=0.1949\n",
            "k=8, Silhouette Score=0.1900\n",
            "k=9, Silhouette Score=0.2017\n",
            "k=10, Silhouette Score=0.2205\n"
          ]
        },
        {
          "output_type": "display_data",
          "data": {
            "text/plain": [
              "<Figure size 800x400 with 1 Axes>"
            ],
            "image/png": "[encoded data removed]"
          },
          "metadata": {}
        }
      ]
    },
    {
      "cell_type": "markdown",
      "source": [
        "### The highest silhouette score is k=2 with a value of 0.2799. According to silhouette score the best number of clusters is k=2 which is different from elbow method k=4, this means that two clusters yield a clearer and more natural separation of data."
      ],
      "metadata": {
        "id": "no66h73MqZCy"
      }
    },
    {
      "cell_type": "markdown",
      "source": [
        "# Clustering - 2 (20 points)"
      ],
      "metadata": {
        "id": "25Wl5PMQUlQ5"
      }
    },
    {
      "cell_type": "markdown",
      "source": [
        "## 1. Create a cluster model using DBSCAN. How many clusters are produced? (10 points)"
      ],
      "metadata": {
        "id": "txzkTo0IVB41"
      }
    },
    {
      "cell_type": "code",
      "source": [
        "scaler = StandardScaler()\n",
        "X_scaled = scaler.fit_transform(df)\n",
        "\n",
        "dbscan = DBSCAN(eps=1.6, min_samples=5)\n",
        "labels = dbscan.fit(X_scaled)\n",
        "\n",
        "labels = dbscan.labels_\n",
        "\n",
        "n_clusters = len(set(labels)) - (1 if -1 in labels else 0)\n",
        "print(f\"Number of clusters produced : {n_clusters}\")"
      ],
      "metadata": {
        "colab": {
          "base_uri": "https://localhost:8080/"
        },
        "id": "KjURSwPcWDLv",
        "outputId": "9e19add8-7922-422c-a69e-e584f504702c"
      },
      "execution_count": 15,
      "outputs": [
        {
          "output_type": "stream",
          "name": "stdout",
          "text": [
            "Number of clusters produced : 3\n"
          ]
        }
      ]
    },
    {
      "cell_type": "markdown",
      "source": [
        "## 2. What are the silhouette coefficient and DBI values of the clusters produced by DBSCAN? (10 points)"
      ],
      "metadata": {
        "id": "_Gaieom8V_LT"
      }
    },
    {
      "cell_type": "code",
      "source": [
        "mask = labels != -1\n",
        "X_filtered = X_scaled[mask]\n",
        "labels_clustered = labels[mask]\n",
        "\n",
        "if len(set(labels_clustered)) > 1 :\n",
        "  silhouette_score_dbscan = silhouette_score(X_filtered, labels_clustered)\n",
        "  dbi_score_dbscan = davies_bouldin_score(X_filtered, labels_clustered)\n",
        "  print(f\"Silhouette Score (DBSCAN) : {silhouette_score_dbscan}\")\n",
        "  print(f\"Davies Bouldin Index (DBSCAN) : {dbi_score_dbscan}\")\n",
        "else :\n",
        "  print(\"DBSCAN produced only 1 cluster\")"
      ],
      "metadata": {
        "colab": {
          "base_uri": "https://localhost:8080/"
        },
        "id": "DnvvxL2OWDdJ",
        "outputId": "04cefed4-fe59-4cd2-f99d-fd9cd04b4f63"
      },
      "execution_count": 16,
      "outputs": [
        {
          "output_type": "stream",
          "name": "stdout",
          "text": [
            "Silhouette Score (DBSCAN) : 0.2848852415538863\n",
            "Davies Bouldin Index (DBSCAN) : 0.6177736334484315\n"
          ]
        }
      ]
    },
    {
      "cell_type": "markdown",
      "source": [
        "### DBSCAN model with eps=1.6 and min_samples=5 produced 3 clusters. The silhouette coefficient value is 0.2849 that indicates the clusters are well difined, and the davies bouldin value is 0.6178 that means the clusters have fair seperation."
      ],
      "metadata": {
        "id": "MkU_Jq0XtZ3S"
      }
    },
    {
      "cell_type": "markdown",
      "source": [
        "# Feature Selection (30 points)\n",
        "After knowing the performance of the clustering results on the KMeans and DBSCAN models based on the silhouette coefficient and DBI, perform a feature selection process to improve the silhouette coefficient and DBI values. You are allowed to use an iterative process or other methods.\n"
      ],
      "metadata": {
        "id": "bZK630myeRM_"
      }
    },
    {
      "cell_type": "markdown",
      "source": [
        "## 1. Which features provide the best silhouette coefficient/DBI values? Include the feature selection process."
      ],
      "metadata": {
        "id": "8JTm-2ZIf0hv"
      }
    },
    {
      "cell_type": "code",
      "source": [
        "scaler = StandardScaler()\n",
        "X_scaled = scaler.fit_transform(df)\n",
        "\n",
        "kmeans = KMeans(n_clusters=3, random_state=42)\n",
        "labels_full = kmeans.fit_predict(X_scaled)\n",
        "\n",
        "silhouette_full = silhouette_score(X_scaled, labels_full)\n",
        "dbi_full = davies_bouldin_score(X_scaled, labels_full)\n",
        "\n",
        "print(f\"Baseline Silhouette (all features): {silhouette_full:.4f}\")\n",
        "print(f\"Baseline DBI (all features): {dbi_full:.4f}\")\n",
        "\n",
        "selector = SelectKBest(score_func=f_classif, k='all')\n",
        "selector.fit(X_scaled, labels_full)\n",
        "\n",
        "feature_scores = pd.DataFrame({\n",
        "    'Feature': df.columns,\n",
        "    'Score': selector.scores_\n",
        "}).sort_values(by='Score', ascending=False)\n",
        "\n",
        "print(\"\\nFeature Importance Ranking:\")\n",
        "print(feature_scores)\n",
        "\n",
        "best_results = []\n",
        "\n",
        "for k in [3, 5, 7]:\n",
        "    selector = SelectKBest(score_func=f_classif, k=k)\n",
        "    X_selected = selector.fit_transform(X_scaled, labels_full)\n",
        "    selected_features = df.columns[selector.get_support()]\n",
        "\n",
        "    # KMeans with selected features\n",
        "    kmeans = KMeans(n_clusters=3, random_state=42)\n",
        "    labels = kmeans.fit_predict(X_selected)\n",
        "\n",
        "    # Evaluate silhouette & DBI\n",
        "    silhouette = silhouette_score(X_selected, labels)\n",
        "    dbi = davies_bouldin_score(X_selected, labels)\n",
        "\n",
        "    best_results.append({\n",
        "        'Top Features Used': list(selected_features),\n",
        "        'Silhouette': silhouette,\n",
        "        'DBI': dbi\n",
        "    })\n",
        "\n",
        "results_df = pd.DataFrame(best_results)\n",
        "print(\"\\nFeature Selection Results:\")\n",
        "print(results_df)"
      ],
      "metadata": {
        "colab": {
          "base_uri": "https://localhost:8080/"
        },
        "id": "gxlAMkYFf4jz",
        "outputId": "cd9b0a33-162a-4245-8012-34b57d556be9"
      },
      "execution_count": 13,
      "outputs": [
        {
          "output_type": "stream",
          "name": "stdout",
          "text": [
            "Baseline Silhouette (all features): 0.2068\n",
            "Baseline DBI (all features): 1.6595\n",
            "\n",
            "Feature Importance Ranking:\n",
            "                             Feature        Score\n",
            "6                PURCHASES_FREQUENCY  8056.016649\n",
            "8   PURCHASES_INSTALLMENTS_FREQUENCY  4583.559753\n",
            "9             CASH_ADVANCE_FREQUENCY  4578.944371\n",
            "5                       CASH_ADVANCE  3835.165726\n",
            "10                  CASH_ADVANCE_TRX  3303.361602\n",
            "0                            BALANCE  2264.095827\n",
            "11                     PURCHASES_TRX  1817.244553\n",
            "7         ONEOFF_PURCHASES_FREQUENCY  1227.021390\n",
            "4             INSTALLMENTS_PURCHASES  1062.622475\n",
            "2                          PURCHASES   903.489476\n",
            "12                      CREDIT_LIMIT   896.995102\n",
            "1                  BALANCE_FREQUENCY   742.085044\n",
            "15                  PRC_FULL_PAYMENT   597.596451\n",
            "13                          PAYMENTS   520.539824\n",
            "3                   ONEOFF_PURCHASES   407.659458\n",
            "14                  MINIMUM_PAYMENTS   216.808725\n",
            "16                            TENURE    70.506502\n",
            "\n",
            "Feature Selection Results:\n",
            "                                   Top Features Used  Silhouette       DBI\n",
            "0  [PURCHASES_FREQUENCY, PURCHASES_INSTALLMENTS_F...    0.503407  0.788304\n",
            "1  [CASH_ADVANCE, PURCHASES_FREQUENCY, PURCHASES_...    0.468724  0.883770\n",
            "2  [BALANCE, CASH_ADVANCE, PURCHASES_FREQUENCY, P...    0.380278  1.036666\n"
          ]
        }
      ]
    },
    {
      "cell_type": "markdown",
      "source": [
        "### The top 3 features are PURCHASES_FREQUENCY, PURCHASES_INSTALLMENTS_FREQUENCY, and CASH_ADVANCE_FREQUENCY that produce the highest silhouette coifficient 0.5034 and lowest davies bouldin value is 0.7883 it means well separated."
      ],
      "metadata": {
        "id": "Oy3UdlPdvT-G"
      }
    },
    {
      "cell_type": "markdown",
      "source": [
        "## 2. Why did you use that feature selection method?"
      ],
      "metadata": {
        "id": "e9fZakpwf6Ew"
      }
    },
    {
      "cell_type": "markdown",
      "source": [
        "### I used SelectKBest ANOVA F-test feature selection method for unsupervised clustering to identify features with strong statistical relationships with the target or data structure. This method removes irrelevant variables, improves separation between clusters and reduces Davies-Bouldin Index values, making it efficient and easy to implement."
      ],
      "metadata": {
        "id": "akpwvp_ZhUDk"
      }
    },
    {
      "cell_type": "markdown",
      "source": [
        "## BONUS - CHALLENGE (30 points)\n",
        "Build an ANNOY model using the data that has gone through the data preprocessing stage. Perform a query with the 5 nearest values. Does ANNOY query the best cluster you have formed?"
      ],
      "metadata": {
        "id": "yjlk4Ninwe5j"
      }
    },
    {
      "cell_type": "code",
      "source": [
        "best_features = ['PURCHASES_FREQUENCY',\n",
        "                 'PURCHASES_INSTALLMENTS_FREQUENCY',\n",
        "                 'CASH_ADVANCE_FREQUENCY']\n",
        "\n",
        "X_best = df[best_features].values\n",
        "\n",
        "scaler = StandardScaler()\n",
        "X_best_scaled = scaler.fit_transform(X_best)\n",
        "\n",
        "kmeans = KMeans(n_clusters=3, random_state=42)\n",
        "labels_best = kmeans.fit_predict(X_best_scaled)\n",
        "\n",
        "# annoy\n",
        "f = X_best_scaled.shape[1]\n",
        "annoy_index = AnnoyIndex(f, 'euclidean')\n",
        "\n",
        "for i, vector in enumerate(X_best_scaled):\n",
        "    annoy_index.add_item(i, vector)\n",
        "\n",
        "annoy_index.build(10)\n",
        "\n",
        "sample_index = 42\n",
        "neighbors = annoy_index.get_nns_by_item(sample_index, 5)\n",
        "\n",
        "print(f\"Query Point Index : {sample_index}\")\n",
        "print(f\"Nearest Neighbors : {neighbors}\")\n",
        "\n",
        "query_cluster = labels_best[sample_index]\n",
        "neighbor_clusters = labels_best[neighbors]\n",
        "\n",
        "print(f\"Cluster of query point : {query_cluster}\")\n",
        "print(f\"Clusters of neighbors  : {neighbor_clusters}\")\n",
        "\n",
        "same_cluster_count = np.sum(neighbor_clusters == query_cluster)\n",
        "print(f\"{same_cluster_count} out of 5 neighbors belong to the same cluster\")"
      ],
      "metadata": {
        "id": "AVofaeJoweB7",
        "outputId": "cfe64747-bd9d-4ef3-9fd1-ae959318772f",
        "colab": {
          "base_uri": "https://localhost:8080/"
        }
      },
      "execution_count": 25,
      "outputs": [
        {
          "output_type": "stream",
          "name": "stdout",
          "text": [
            "Query Point Index : 42\n",
            "Nearest Neighbors : [4, 233, 586, 764, 958]\n",
            "Cluster of query point : 0\n",
            "Clusters of neighbors  : [0 0 0 0 0]\n",
            "5 out of 5 neighbors belong to the same cluster\n"
          ]
        }
      ]
    },
    {
      "cell_type": "markdown",
      "source": [
        "### I built an annoy model using the three best features: PURCHASES_FREQUENCY, PURCHASES_INSTALLMENTS_FREQUENCY, and CASH_ADVANCE_FREQUENCY, then queried to find the five closest neighbors of a data sample with index 42. The results showed that the five closest neighbors belonged to the same cluster as the query point.  This indicates that the model successfully identified very close points, therefore I conclude that the selected features and their clustering structure are effective."
      ],
      "metadata": {
        "id": "iYRs5T9bxx98"
      }
    }
  ]
}